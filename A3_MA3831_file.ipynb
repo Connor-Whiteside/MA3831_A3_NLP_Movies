{
 "cells": [
  {
   "metadata": {},
   "cell_type": "markdown",
   "source": "# MA3831 A3 WebCrawler and NLP System",
   "id": "bf642e159e64b473"
  },
  {
   "cell_type": "code",
   "execution_count": null,
   "id": "initial_id",
   "metadata": {
    "collapsed": true
   },
   "outputs": [],
   "source": [
    "# Import Libraries\n",
    "import os\n",
    "import requests\n",
    "import pandas as pd\n",
    "import nltk\n",
    "%matplotlib inline\n",
    "import matplotlib.pyplot as plt\n",
    "import numpy as np\n",
    "import urllib.parse\n",
    "import json\n",
    "from pygments import highlight, lexers, formatters\n",
    "import re\n",
    "import seaborn as sns\n",
    "from sklearn.model_selection import train_test_split\n",
    "from sklearn.feature_extraction.text import TfidfVectorizer\n",
    "from sklearn.feature_extraction.text import CountVectorizer\n",
    "from sklearn.cluster import KMeans\n",
    "from sklearn import metrics\n",
    "import pickle\n",
    "\n",
    "from bs4 import BeautifulSoup\n",
    "from nltk.corpus import stopwords\n",
    "from nltk import PorterStemmer\n"
   ]
  },
  {
   "metadata": {},
   "cell_type": "markdown",
   "source": "# Task 1: Overview",
   "id": "e718672c0ab972bc"
  },
  {
   "metadata": {},
   "cell_type": "markdown",
   "source": "# Task 2: Web scrapping",
   "id": "7529c9167ca3921b"
  },
  {
   "metadata": {},
   "cell_type": "markdown",
   "source": "# Task 3: Data Wrangling",
   "id": "b1f387d77f36be0a"
  },
  {
   "metadata": {},
   "cell_type": "markdown",
   "source": "# Task 4: Machine Learning",
   "id": "bf00801d5195f578"
  },
  {
   "metadata": {},
   "cell_type": "markdown",
   "source": "### Text Cleaning Functions:",
   "id": "5a906286a03b9b80"
  },
  {
   "metadata": {},
   "cell_type": "code",
   "outputs": [],
   "execution_count": null,
   "source": [
    "# Text cleaning functions\n",
    "\n",
    "def remove_by_regex(texts, regexp):\n",
    "    \"\"\"Removes text by regexp from a list.\"\"\"\n",
    "    output_texts = regexp.sub(\"\", texts)\n",
    "    return output_texts\n",
    "\n",
    "\n",
    "def remove_urls(input_text):\n",
    "    \"\"\"Remove urls from a string.\"\"\"\n",
    "    return remove_by_regex(input_text, re.compile(r\"http.?://[^\\s]+[\\s]?\"))\n",
    "\n",
    "\n",
    "def text_preprocessing(uncleaned_text):\n",
    "    \"\"\"Preprocessing text by removing urls and punctuation.\"\"\"\n",
    "    review = re.sub('[^a-zA-Z]', ' ', uncleaned_text)\n",
    "    review = review.lower()\n",
    "    review = remove_urls(review)\n",
    "    review = review.split()\n",
    "    ps = PorterStemmer()\n",
    "    all_stopwords = stopwords.words('english')\n",
    "    all_stopwords.remove('not')\n",
    "    review = [ps.stem(word) for word in review if not word in set(all_stopwords)]\n",
    "    review = ' '.join(review)\n",
    "    return review "
   ],
   "id": "92566fa5ca4891ab"
  },
  {
   "metadata": {},
   "cell_type": "markdown",
   "source": "### Visualisation Functions:",
   "id": "8f4ed7f5234d0457"
  },
  {
   "metadata": {},
   "cell_type": "code",
   "outputs": [],
   "execution_count": null,
   "source": [
    "# A Variety of Visualisation Functions:\n",
    "\n",
    "\n",
    "\n"
   ],
   "id": "d16ed9f6be7f9ed1"
  }
 ],
 "metadata": {
  "kernelspec": {
   "display_name": "Python 3",
   "language": "python",
   "name": "python3"
  },
  "language_info": {
   "codemirror_mode": {
    "name": "ipython",
    "version": 2
   },
   "file_extension": ".py",
   "mimetype": "text/x-python",
   "name": "python",
   "nbconvert_exporter": "python",
   "pygments_lexer": "ipython2",
   "version": "2.7.6"
  }
 },
 "nbformat": 4,
 "nbformat_minor": 5
}
